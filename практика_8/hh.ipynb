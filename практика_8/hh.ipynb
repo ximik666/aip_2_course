{
 "cells": [
  {
   "cell_type": "markdown",
   "metadata": {},
   "source": [
    "Подсчитать количество вакансий по Python на сайте hh.ru в Республике Татарстан\n",
    "\n",
    "[Описание протокола](https://github.com/hhru/api/blob/master/docs/general.md)\n",
    "\n",
    "[Описание api](https://github.com/hhru/api) \n",
    "\n",
    "[Работа поиска по вакансиям](https://github.com/hhru/api/blob/master/docs/vacancies.md#search)"
   ]
  },
  {
   "cell_type": "code",
   "execution_count": null,
   "metadata": {},
   "outputs": [],
   "source": [
    "import requests\n",
    "import json\n",
    "# пример запроса по ваканасиям для Республики Татарстан, этот запрос можно выполнить и в браузере\n",
    "url = \"https://api.hh.ru/vacancies?area=1624\"\n",
    "\n",
    "payload={}\n",
    "headers = {\n",
    "  'Cookie': '__ddg1=rtDIbMeUJ3oBtRRoy5BW'\n",
    "}\n",
    "\n",
    "response = requests.request(\"GET\", url, headers=headers, data=payload)\n",
    "\n",
    "print(response.text)\n",
    "js = json.loads(response.text)\n",
    "\n",
    "# нужно изменить запрос в связи ограничениями"
   ]
  }
 ],
 "metadata": {
  "interpreter": {
   "hash": "4374f376cf7b56d142b84a5996ba4773e81b4b07d00579f62d563620ad3591d6"
  },
  "kernelspec": {
   "display_name": "Python 3.7.9 64-bit",
   "language": "python",
   "name": "python3"
  },
  "language_info": {
   "codemirror_mode": {
    "name": "ipython",
    "version": 3
   },
   "file_extension": ".py",
   "mimetype": "text/x-python",
   "name": "python",
   "nbconvert_exporter": "python",
   "pygments_lexer": "ipython3",
   "version": "3.7.9"
  },
  "orig_nbformat": 4
 },
 "nbformat": 4,
 "nbformat_minor": 2
}

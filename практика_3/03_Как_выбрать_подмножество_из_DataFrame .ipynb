{
  "nbformat": 4,
  "nbformat_minor": 0,
  "metadata": {
    "kernelspec": {
      "display_name": "Python 3",
      "language": "python",
      "name": "python3"
    },
    "language_info": {
      "codemirror_mode": {
        "name": "ipython",
        "version": 3
      },
      "file_extension": ".py",
      "mimetype": "text/x-python",
      "name": "python",
      "nbconvert_exporter": "python",
      "pygments_lexer": "ipython3",
      "version": "3.8.2"
    },
    "colab": {
      "name": "03. Как выбрать подмножество из DataFrame?.ipynb",
      "provenance": []
    }
  },
  "cells": [
    {
      "cell_type": "markdown",
      "metadata": {
        "id": "_LI5UwWmsHr4"
      },
      "source": [
        "<a href=\"https://colab.research.google.com/github/dm-fedorov/pandas_basic/blob/master/%D0%B1%D1%8B%D1%81%D1%82%D1%80%D0%BE%D0%B5%20%D0%B2%D0%B2%D0%B5%D0%B4%D0%B5%D0%BD%D0%B8%D0%B5%20%D0%B2%20pandas/03.%20%D0%9A%D0%B0%D0%BA%20%D0%B2%D1%8B%D0%B1%D1%80%D0%B0%D1%82%D1%8C%20%D0%BF%D0%BE%D0%B4%D0%BC%D0%BD%D0%BE%D0%B6%D0%B5%D1%81%D1%82%D0%B2%D0%BE%20%D0%B8%D0%B7%20DataFrame%3F.ipynb\"><img align=\"left\" src=\"https://colab.research.google.com/assets/colab-badge.svg\" alt=\"Open in Colab\" title=\"Open and Execute in Google Colaboratory\" target=\"_blank\"></a>"
      ]
    },
    {
      "cell_type": "markdown",
      "metadata": {
        "id": "qRRIM7oXsHr_"
      },
      "source": [
        "<a href=\"https://t.me/init_python\"><img src=\"https://dfedorov.spb.ru/pandas/logo-telegram.png\" width=\"35\" height=\"35\" alt=\"telegram\" align=\"left\"></a>"
      ]
    },
    {
      "cell_type": "code",
      "metadata": {
        "id": "dwckMNVtsHsA"
      },
      "source": [
        "import pandas as pd"
      ],
      "execution_count": null,
      "outputs": []
    },
    {
      "cell_type": "code",
      "metadata": {
        "id": "qEstk4GOsHsC"
      },
      "source": [
        "url = \"https://raw.githubusercontent.com/dm-fedorov/pandas_basic/master/%D0%B1%D1%8B%D1%81%D1%82%D1%80%D0%BE%D0%B5%20%D0%B2%D0%B2%D0%B5%D0%B4%D0%B5%D0%BD%D0%B8%D0%B5%20%D0%B2%20pandas/data/titanic.csv\""
      ],
      "execution_count": null,
      "outputs": []
    },
    {
      "cell_type": "code",
      "metadata": {
        "id": "borzbFrcsHsD"
      },
      "source": [
        "titanic = pd.read_csv(url)"
      ],
      "execution_count": null,
      "outputs": []
    },
    {
      "cell_type": "markdown",
      "metadata": {
        "id": "dmYTEJpQsHsE"
      },
      "source": [
        "### Как выбрать определенные столбцы из DataFrame?"
      ]
    },
    {
      "cell_type": "markdown",
      "metadata": {
        "id": "gUgZ7DOssHsF"
      },
      "source": [
        "<img src=\"https://pandas.pydata.org/pandas-docs/stable/_images/03_subset_columns.svg\">"
      ]
    },
    {
      "cell_type": "markdown",
      "metadata": {
        "id": "y4qQf5WlsHsF"
      },
      "source": [
        "Меня интересует возраст пассажиров:"
      ]
    },
    {
      "cell_type": "code",
      "metadata": {
        "id": "v3J6vxWgsHsG"
      },
      "source": [
        "ages = titanic[\"Age\"]\n",
        "ages"
      ],
      "execution_count": null,
      "outputs": []
    },
    {
      "cell_type": "markdown",
      "metadata": {
        "id": "hCz2EnxEsHsI"
      },
      "source": [
        "Чтобы выбрать один столбец, используйте квадратные скобки `[]` с именем интересующего столбца."
      ]
    },
    {
      "cell_type": "markdown",
      "metadata": {
        "id": "5lFgj9TBsHsI"
      },
      "source": [
        "Каждый столбец в [`DataFrame`](https://pandas.pydata.org/pandas-docs/stable/reference/api/pandas.DataFrame.html#pandas.DataFrame) является [`Series`](https://pandas.pydata.org/pandas-docs/stable/reference/api/pandas.Series.html#pandas.Series). \n",
        "\n",
        "Поскольку выбран один столбец, то возвращаемый объект является `Series`. \n",
        "\n",
        "Мы можем проверить это:"
      ]
    },
    {
      "cell_type": "code",
      "metadata": {
        "id": "S2zB-oPcsHsJ"
      },
      "source": [
        "type(titanic[\"Age\"])"
      ],
      "execution_count": null,
      "outputs": []
    },
    {
      "cell_type": "markdown",
      "metadata": {
        "id": "1HLhjV0osHsK"
      },
      "source": [
        "Посмотрим на результат обращения к атрибуту `shape`:"
      ]
    },
    {
      "cell_type": "code",
      "metadata": {
        "id": "y-Avhc9BsHsK"
      },
      "source": [
        "titanic[\"Age\"].shape"
      ],
      "execution_count": null,
      "outputs": []
    },
    {
      "cell_type": "markdown",
      "metadata": {
        "id": "Du4uBWlrsHsL"
      },
      "source": [
        "[`DataFrame.shape`](https://pandas.pydata.org/pandas-docs/stable/reference/api/pandas.DataFrame.shape.html#pandas.DataFrame.shape) является атрибутом `Series` и `DataFrame` и содержит количество строк и столбцов `(nrows, ncolumns)`. \n",
        "\n",
        "Серия является одномерной, поэтому возвращается только количество строк."
      ]
    },
    {
      "cell_type": "markdown",
      "metadata": {
        "id": "Y6QLbZmosHsM"
      },
      "source": [
        "Меня интересует возраст и пол пассажиров:"
      ]
    },
    {
      "cell_type": "code",
      "metadata": {
        "id": "eOejhcz3sHsM"
      },
      "source": [
        "age_sex = titanic[[\"Age\", \"Sex\"]]"
      ],
      "execution_count": null,
      "outputs": []
    },
    {
      "cell_type": "code",
      "metadata": {
        "id": "HxbZe-wNsHsN"
      },
      "source": [
        "age_sex.head()"
      ],
      "execution_count": null,
      "outputs": []
    },
    {
      "cell_type": "markdown",
      "metadata": {
        "id": "pADU2Y-csHsO"
      },
      "source": [
        "Чтобы выбрать несколько столбцов, используйте список имен столбцов в квадратных скобках `[]`."
      ]
    },
    {
      "cell_type": "markdown",
      "metadata": {
        "id": "MzxN8nTdsHsO"
      },
      "source": [
        "Внутренние квадратные скобки определяют [список Python](https://docs.python.org/3/tutorial/datastructures.html#tut-morelists) с именами столбцов, тогда как внешние квадратные скобки используются для выбора данных."
      ]
    },
    {
      "cell_type": "markdown",
      "metadata": {
        "id": "gUdrD8disHsP"
      },
      "source": [
        "Возвращаемый тип данных - `DataFrame`:"
      ]
    },
    {
      "cell_type": "code",
      "metadata": {
        "id": "RhpAydJWsHsQ"
      },
      "source": [
        "type(titanic[[\"Age\", \"Sex\"]])"
      ],
      "execution_count": null,
      "outputs": []
    },
    {
      "cell_type": "code",
      "metadata": {
        "id": "eJEuZb0msHsQ"
      },
      "source": [
        "titanic[[\"Age\", \"Sex\"]].shape"
      ],
      "execution_count": null,
      "outputs": []
    },
    {
      "cell_type": "markdown",
      "metadata": {
        "id": "xKpldF5ZsHsR"
      },
      "source": [
        "Видим, что `DataFrame` содержит 891 строк и 2 столбца. "
      ]
    },
    {
      "cell_type": "markdown",
      "metadata": {
        "id": "I70c6Bq9sHsR"
      },
      "source": [
        "Для получения информации об индексации см. [Раздел руководства пользователя по индексированию и выбору данных](https://pandas.pydata.org/pandas-docs/stable/user_guide/indexing.html#indexing-basics)."
      ]
    },
    {
      "cell_type": "markdown",
      "metadata": {
        "id": "-qCgdprRsHsR"
      },
      "source": [
        "### Как отфильтровать определенные строки из DataFrame?\n",
        "\n",
        "<img src=\"https://pandas.pydata.org/pandas-docs/stable/_images/03_subset_rows.svg\">"
      ]
    },
    {
      "cell_type": "markdown",
      "metadata": {
        "id": "Lb_owCYysHsR"
      },
      "source": [
        "Меня интересуют пассажиры старше 35 лет:"
      ]
    },
    {
      "cell_type": "code",
      "metadata": {
        "id": "3VZPvJGJsHsR"
      },
      "source": [
        "above_35 = titanic[titanic[\"Age\"] > 35]"
      ],
      "execution_count": null,
      "outputs": []
    },
    {
      "cell_type": "code",
      "metadata": {
        "id": "A1EULJ1BsHsS"
      },
      "source": [
        "above_35.head()"
      ],
      "execution_count": null,
      "outputs": []
    },
    {
      "cell_type": "markdown",
      "metadata": {
        "id": "E6O5CzoUsHsS"
      },
      "source": [
        "Условие внутри скобок проверяет, для каких строк столбец имеет значение больше 35:"
      ]
    },
    {
      "cell_type": "code",
      "metadata": {
        "id": "3l7O9NwtsHsS"
      },
      "source": [
        "titanic[\"Age\"] > 35"
      ],
      "execution_count": null,
      "outputs": []
    },
    {
      "cell_type": "markdown",
      "metadata": {
        "id": "ddBNnBi7sHsT"
      },
      "source": [
        "Вывод условного выражения (`>`, но также будут работать `==`, `!=`, `<`, `<=`, ... ) является `Series` булевых значений (`True` или `False`) с тем же числом строк, что и в оригинальном `DataFrame`. \n",
        "\n",
        "Подобный `Series` может быть использован для фильтрации `DataFrame`, помещая его внутрь скобок выбора `[]`. \n",
        "\n",
        "Будут выбраны только те строки, для которых это значение `True`.\n",
        "\n",
        "Давайте посмотрим на количество строк, которые удовлетворяют условию, проверив атрибут `shape` полученного `DataFrame`:"
      ]
    },
    {
      "cell_type": "code",
      "metadata": {
        "id": "1c2f0gFUsHsU"
      },
      "source": [
        "above_35.shape"
      ],
      "execution_count": null,
      "outputs": []
    },
    {
      "cell_type": "markdown",
      "metadata": {
        "id": "dm_v4Wq1sHsU"
      },
      "source": [
        "Меня интересуют пассажиры из кают класса `2` и `3`:"
      ]
    },
    {
      "cell_type": "code",
      "metadata": {
        "id": "7W8jkv33sHsV"
      },
      "source": [
        "class_23 = titanic[titanic[\"Pclass\"].isin([2, 3])]"
      ],
      "execution_count": null,
      "outputs": []
    },
    {
      "cell_type": "markdown",
      "metadata": {
        "id": "iapr87tTsHsV"
      },
      "source": [
        "Подобно условному выражению, [`isin()`](https://pandas.pydata.org/pandas-docs/stable/reference/api/pandas.Series.isin.html#pandas.Series.isin) возвращает `True` для каждой строки, значения которой находятся в предоставленном списке. \n",
        "\n",
        "Чтобы отфильтровать строки на основе такой функции, используйте функцию внутри скобок `[]`. \n",
        "\n",
        "Вышесказанное эквивалентно фильтрации по строкам, для которых класс равен `2` или `3`, и объединению двух операторов с помощью (или) `|` :"
      ]
    },
    {
      "cell_type": "code",
      "metadata": {
        "id": "aCeooXTPsHsV"
      },
      "source": [
        "class_23 = titanic[(titanic[\"Pclass\"] == 2) | (titanic[\"Pclass\"] == 3)]"
      ],
      "execution_count": null,
      "outputs": []
    },
    {
      "cell_type": "code",
      "metadata": {
        "id": "FY46Lt2isHsW"
      },
      "source": [
        "class_23.head()"
      ],
      "execution_count": null,
      "outputs": []
    },
    {
      "cell_type": "markdown",
      "metadata": {
        "id": "T0iq7fm3sHsW"
      },
      "source": [
        "См. Специальный раздел в [руководстве пользователя о булевой индексации](https://pandas.pydata.org/pandas-docs/stable/user_guide/indexing.html#indexing-boolean)."
      ]
    },
    {
      "cell_type": "markdown",
      "metadata": {
        "id": "x8xSZoLBsHsW"
      },
      "source": [
        "Я хочу работать с данными о пассажирах, для которых известен возраст:"
      ]
    },
    {
      "cell_type": "code",
      "metadata": {
        "id": "hDCNerIesHsX"
      },
      "source": [
        "age_no_na = titanic[titanic[\"Age\"].notna()]"
      ],
      "execution_count": null,
      "outputs": []
    },
    {
      "cell_type": "code",
      "metadata": {
        "id": "G8qPFRf9sHsX"
      },
      "source": [
        "age_no_na.head()"
      ],
      "execution_count": null,
      "outputs": []
    },
    {
      "cell_type": "markdown",
      "metadata": {
        "id": "sVZsnVgDsHsX"
      },
      "source": [
        "[`notna()`](https://pandas.pydata.org/pandas-docs/stable/reference/api/pandas.Series.notna.html#pandas.Series.notna) возвращает `True` для каждой строки, значение которой отлично от `NA` (`np.NaN`). "
      ]
    },
    {
      "cell_type": "markdown",
      "metadata": {
        "id": "K-_9xjU0sHsY"
      },
      "source": [
        "Проверим, изменилась ли форма:"
      ]
    },
    {
      "cell_type": "code",
      "metadata": {
        "id": "H_ohSB1RsHsY"
      },
      "source": [
        "age_no_na.shape"
      ],
      "execution_count": null,
      "outputs": []
    },
    {
      "cell_type": "markdown",
      "metadata": {
        "id": "eJ2Ahdy1sHsY"
      },
      "source": [
        "### Как выбрать определенные строки и столбцы из DataFrame?"
      ]
    },
    {
      "cell_type": "markdown",
      "metadata": {
        "id": "3xGKe_wQsHsZ"
      },
      "source": [
        "<img src=\"https://pandas.pydata.org/docs/_images/03_subset_columns_rows.svg\">"
      ]
    },
    {
      "cell_type": "markdown",
      "metadata": {
        "id": "v9OCnCF0sHsZ"
      },
      "source": [
        "Меня интересуют имена пассажиров старше `35` лет:"
      ]
    },
    {
      "cell_type": "code",
      "metadata": {
        "id": "m0scmV8GsHsZ"
      },
      "source": [
        "adult_names = titanic.loc[titanic[\"Age\"] > 35, \"Name\"]"
      ],
      "execution_count": null,
      "outputs": []
    },
    {
      "cell_type": "code",
      "metadata": {
        "id": "B0X6XxdRsHsZ"
      },
      "source": [
        "adult_names.head()"
      ],
      "execution_count": null,
      "outputs": []
    },
    {
      "cell_type": "markdown",
      "metadata": {
        "id": "XaSO_suNsHsa"
      },
      "source": [
        "В этом случае подмножество строк и столбцов создается за один раз, и просто использование скобок выбора `[]` больше не достаточно. \n",
        "\n",
        "Операторы `loc` / `iloc` требуются перед скобками`[]`. \n",
        "\n",
        "При использовании `loc` / `iloc` часть перед запятой - это строки, которые вы хотите выбрать, а часть после запятой - это столбцы."
      ]
    },
    {
      "cell_type": "markdown",
      "metadata": {
        "id": "ghzoOIXksHsa"
      },
      "source": [
        "При использовании имен столбцов, меток строк или условных выражений используйте оператор `loc` перед скобками выбора `[]`. \n",
        "\n",
        "Как для части до, так и после запятой можно использовать одну метку, список меток, часть меток, условное выражение или двоеточие. \n",
        "\n",
        "Используя особенности двоеточия, если хотите выбрать все строки или столбцы."
      ]
    },
    {
      "cell_type": "markdown",
      "metadata": {
        "id": "Vl3As1B3sHsb"
      },
      "source": [
        "Меня интересуют строки с `9` по `24` и столбцы с `2` по `4`:"
      ]
    },
    {
      "cell_type": "code",
      "metadata": {
        "id": "YP0Mh1KJsHsb"
      },
      "source": [
        "titanic.iloc[9:25, 2:5]"
      ],
      "execution_count": null,
      "outputs": []
    },
    {
      "cell_type": "markdown",
      "metadata": {
        "id": "YNQxMukJsHsb"
      },
      "source": [
        "Опять же, подмножество строк и столбцов создается за один раз, и просто использование скобок выбора `[]` больше не достаточно. \n",
        "\n",
        "Если вас интересуют определенные строки и/или столбцы в зависимости от их положения в таблице, используйте оператор `iloc` перед `[]`."
      ]
    },
    {
      "cell_type": "markdown",
      "metadata": {
        "id": "gaGURLnJsHsc"
      },
      "source": [
        "При выборе определенных строк и/или столбцов с помощью `loc` или `iloc`, новым значениям могут быть назначены выбранные данные. \n",
        "\n",
        "Например, чтобы присвоить имя anonymous первым `3` элементам третьего столбца:"
      ]
    },
    {
      "cell_type": "code",
      "metadata": {
        "id": "nvGncMlpsHsc"
      },
      "source": [
        "titanic.iloc[0:3, 3] = \"anonymous\""
      ],
      "execution_count": null,
      "outputs": []
    },
    {
      "cell_type": "code",
      "metadata": {
        "id": "hpAYut7bsHsc"
      },
      "source": [
        "titanic.head()"
      ],
      "execution_count": null,
      "outputs": []
    },
    {
      "cell_type": "markdown",
      "metadata": {
        "id": "sOY-hwd3sHsd"
      },
      "source": [
        "Обратитесь к разделу [руководства пользователя по различным вариантам индексации](https://pandas.pydata.org/pandas-docs/stable/user_guide/indexing.html#indexing-choice), чтобы получить более полное представление об использовании `loc` и `iloc`."
      ]
    },
    {
      "cell_type": "markdown",
      "metadata": {
        "id": "4rOKoV-UsHsd"
      },
      "source": [
        "Полный обзор индексации представлен в [руководстве пользователя по индексированию и выбору данных](https://pandas.pydata.org/pandas-docs/stable/user_guide/indexing.html#indexing)."
      ]
    },
    {
      "cell_type": "markdown",
      "metadata": {
        "id": "0Qk3U2EQsHse"
      },
      "source": [
        "<a href=\"https://t.me/init_python\"><img src=\"https://dfedorov.spb.ru/pandas/logo-telegram.png\" width=\"35\" height=\"35\" alt=\"telegram\" align=\"left\"></a>"
      ]
    },
    {
      "cell_type": "code",
      "metadata": {
        "id": "tVQixzjVsHse"
      },
      "source": [
        ""
      ],
      "execution_count": null,
      "outputs": []
    }
  ]
}
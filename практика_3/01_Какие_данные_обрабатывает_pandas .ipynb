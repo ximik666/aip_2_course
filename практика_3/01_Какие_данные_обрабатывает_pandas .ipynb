{
  "nbformat": 4,
  "nbformat_minor": 0,
  "metadata": {
    "kernelspec": {
      "display_name": "Python 3",
      "language": "python",
      "name": "python3"
    },
    "language_info": {
      "codemirror_mode": {
        "name": "ipython",
        "version": 3
      },
      "file_extension": ".py",
      "mimetype": "text/x-python",
      "name": "python",
      "nbconvert_exporter": "python",
      "pygments_lexer": "ipython3",
      "version": "3.8.2"
    },
    "colab": {
      "name": "01. Какие данные обрабатывает pandas?.ipynb",
      "provenance": []
    }
  },
  "cells": [
    {
      "cell_type": "markdown",
      "metadata": {
        "id": "3KKXdRltsFKJ"
      },
      "source": [
        "<img src=\"https://camo.githubusercontent.com/5cb734f6fc37f645dc900e35559c60d91cc6b550/68747470733a2f2f6465762e70616e6461732e696f2f7374617469632f696d672f70616e6461732e737667\" height=\"300px\" width=\"500px\" >\n",
        "\n",
        "<a href=\"https://t.me/init_python\"><img src=\"https://dfedorov.spb.ru/pandas/logo-telegram.png\" width=\"35\" height=\"35\" alt=\"telegram\" align=\"left\"></a>"
      ]
    },
    {
      "cell_type": "markdown",
      "metadata": {
        "id": "dLqI1_PfsFKQ"
      },
      "source": [
        "<a href=\"https://colab.research.google.com/github/dm-fedorov/pandas_basic/blob/master/%D0%B1%D1%8B%D1%81%D1%82%D1%80%D0%BE%D0%B5%20%D0%B2%D0%B2%D0%B5%D0%B4%D0%B5%D0%BD%D0%B8%D0%B5%20%D0%B2%20pandas/01.%20%D0%9A%D0%B0%D0%BA%D0%B8%D0%B5%20%D0%B4%D0%B0%D0%BD%D0%BD%D1%8B%D0%B5%20%D0%BE%D0%B1%D1%80%D0%B0%D0%B1%D0%B0%D1%82%D1%8B%D0%B2%D0%B0%D0%B5%D1%82%20pandas%3F.ipynb\"><img align=\"left\" src=\"https://colab.research.google.com/assets/colab-badge.svg\" alt=\"Open in Colab\" title=\"Open and Execute in Google Colaboratory\" target=\"_blank\"></a>"
      ]
    },
    {
      "cell_type": "markdown",
      "metadata": {
        "id": "rnLElY4jsFKT"
      },
      "source": [
        "Импортируем модуль `pandas`:"
      ]
    },
    {
      "cell_type": "code",
      "metadata": {
        "id": "_oY8zJMCsFKU"
      },
      "source": [
        "import pandas as pd"
      ],
      "execution_count": null,
      "outputs": []
    },
    {
      "cell_type": "markdown",
      "metadata": {
        "id": "W663s_z_sFKW"
      },
      "source": [
        "В основе работы `pandas` лежит табличное представление данных:\n",
        "\n",
        "<img src=\"https://pandas.pydata.org/docs/_images/01_table_dataframe.svg\">"
      ]
    },
    {
      "cell_type": "markdown",
      "metadata": {
        "id": "s3-lPWHVsFKX"
      },
      "source": [
        "В качестве примера рассмотрим данные о пассажирах Титаника. \n",
        "\n",
        "<img src=\"https://avatars.mds.yandex.net/get-kinopoisk-post-img/1374145/6aae47e9a525adfb3c9c433be10e62df/1920x1080\" height=\"300px\" width=\"500px\" >\n",
        "\n",
        "Для ряда пассажиров я знаю имя (символы), возраст (целые числа) и пол (мужской / женский)."
      ]
    },
    {
      "cell_type": "code",
      "metadata": {
        "id": "Cknj8O_RsFKY"
      },
      "source": [
        "df = pd.DataFrame({\n",
        "            \"Name\": [\"Braund, Mr. Owen Harris\",\n",
        "                     \"Allen, Mr. William Henry\",\n",
        "                     \"Bonnell, Miss. Elizabeth\"],\n",
        "             \"Age\": [22, 35, 58],\n",
        "             \"Sex\": [\"male\", \"male\", \"female\"]}\n",
        "                )"
      ],
      "execution_count": null,
      "outputs": []
    },
    {
      "cell_type": "code",
      "metadata": {
        "id": "ShthxzjwsFKY"
      },
      "source": [
        "df"
      ],
      "execution_count": null,
      "outputs": []
    },
    {
      "cell_type": "markdown",
      "metadata": {
        "id": "UYUbKM3_sFKZ"
      },
      "source": [
        "Полученная структура данных называется [`DataFrame`](https://pandas.pydata.org/pandas-docs/stable/reference/api/pandas.DataFrame.html#pandas.DataFrame).\n",
        "\n",
        "Напоминает обычные таблицы:"
      ]
    },
    {
      "cell_type": "markdown",
      "metadata": {
        "id": "3NwJYmw1sFKa"
      },
      "source": [
        "<img src=\"https://pandas.pydata.org/pandas-docs/stable/_images/01_table_spreadsheet.png\" height=\"200px\" width=\"400px\" >"
      ]
    },
    {
      "cell_type": "markdown",
      "metadata": {
        "id": "X4ygYsN2sFKb"
      },
      "source": [
        "Каждый столбец в структуре `DataFrame` является типом [`Series`](https://pandas.pydata.org/pandas-docs/stable/reference/api/pandas.Series.html#pandas.Series):\n",
        "\n",
        "<img src=\"https://pandas.pydata.org/pandas-docs/stable/_images/01_table_series.svg\">"
      ]
    },
    {
      "cell_type": "markdown",
      "metadata": {
        "id": "pHwsY3TTsFKc"
      },
      "source": [
        "Выбрать столбец из таблицы: "
      ]
    },
    {
      "cell_type": "code",
      "metadata": {
        "id": "O6OgvL3tsFKd"
      },
      "source": [
        "df[\"Age\"]"
      ],
      "execution_count": null,
      "outputs": []
    },
    {
      "cell_type": "markdown",
      "metadata": {
        "id": "fXkfhNlAsFKd"
      },
      "source": [
        "Внешне очень напоминает питоновский [словарь](https://docs.python.org/3/tutorial/datastructures.html#tut-dictionaries)."
      ]
    },
    {
      "cell_type": "markdown",
      "metadata": {
        "id": "LDJbwuPWsFKe"
      },
      "source": [
        "Вы также можете создать `Series` с нуля:"
      ]
    },
    {
      "cell_type": "code",
      "metadata": {
        "id": "ayC6aeZMsFKe"
      },
      "source": [
        "ages = pd.Series([22, 35, 58], name=\"Age\")"
      ],
      "execution_count": null,
      "outputs": []
    },
    {
      "cell_type": "code",
      "metadata": {
        "id": "GDChFfJ3sFKf"
      },
      "source": [
        "ages"
      ],
      "execution_count": null,
      "outputs": []
    },
    {
      "cell_type": "markdown",
      "metadata": {
        "id": "92jcEZwqsFKg"
      },
      "source": [
        "### Сделайте что-нибудь с DataFrame или Series"
      ]
    },
    {
      "cell_type": "markdown",
      "metadata": {
        "id": "daUcaRbdsFKg"
      },
      "source": [
        "Я хочу узнать максимальный возраст пассажиров, применив функцию `max()` к столбцу таблицы:"
      ]
    },
    {
      "cell_type": "code",
      "metadata": {
        "id": "yqc-P4UzsFKh"
      },
      "source": [
        "df[\"Age\"].max()"
      ],
      "execution_count": null,
      "outputs": []
    },
    {
      "cell_type": "markdown",
      "metadata": {
        "id": "dx_my6AasFKh"
      },
      "source": [
        "или к типу данных `Series`:"
      ]
    },
    {
      "cell_type": "code",
      "metadata": {
        "id": "7skY4cW_sFKh"
      },
      "source": [
        "ages.max()"
      ],
      "execution_count": null,
      "outputs": []
    },
    {
      "cell_type": "markdown",
      "metadata": {
        "id": "7BgLebi6sFKh"
      },
      "source": [
        "Помимо поиска максимального в `pandas` существует [большой набор функций](https://pandas.pydata.org/docs/user_guide/basics.html?highlight=describe#descriptive-statistics)."
      ]
    },
    {
      "cell_type": "markdown",
      "metadata": {
        "id": "UDZh2tACsFKj"
      },
      "source": [
        "Если интересует некоторая базовая статистика числовых данных:"
      ]
    },
    {
      "cell_type": "code",
      "metadata": {
        "id": "7AOljBXPsFKj"
      },
      "source": [
        "df.describe()"
      ],
      "execution_count": null,
      "outputs": []
    },
    {
      "cell_type": "markdown",
      "metadata": {
        "id": "OubQodlCsFKk"
      },
      "source": [
        "[`describe()`](https://pandas.pydata.org/docs/user_guide/basics.html?highlight=describe#summarizing-data-describe) метод обеспечивает краткий обзор численных данных в `DataFrame`. \n",
        "\n",
        "Так как столбцы `Name` и `Sex` состоят из текстовых данных, то они не учитываются в `describe()`.\n",
        "\n",
        "Многие операции в `pandas` возвращают `DataFrame` или `Series`. "
      ]
    },
    {
      "cell_type": "markdown",
      "metadata": {
        "id": "Cr8mvVNXsFKk"
      },
      "source": [
        "<a href=\"https://t.me/init_python\"><img src=\"https://dfedorov.spb.ru/pandas/logo-telegram.png\" width=\"35\" height=\"35\" alt=\"telegram\" align=\"left\"></a>"
      ]
    },
    {
      "cell_type": "code",
      "metadata": {
        "id": "G1pDLv6SsFKk"
      },
      "source": [
        ""
      ],
      "execution_count": null,
      "outputs": []
    }
  ]
}
{
  "nbformat": 4,
  "nbformat_minor": 0,
  "metadata": {
    "kernelspec": {
      "display_name": "Python 3",
      "language": "python",
      "name": "python3"
    },
    "language_info": {
      "codemirror_mode": {
        "name": "ipython",
        "version": 3
      },
      "file_extension": ".py",
      "mimetype": "text/x-python",
      "name": "python",
      "nbconvert_exporter": "python",
      "pygments_lexer": "ipython3",
      "version": "3.8.2"
    },
    "colab": {
      "name": "02. Как мне читать и записывать табличные данные?.ipynb",
      "provenance": []
    }
  },
  "cells": [
    {
      "cell_type": "markdown",
      "metadata": {
        "id": "MWBZYTuXsGAD"
      },
      "source": [
        "<img src=\"https://pandas.pydata.org/docs/_images/02_io_readwrite.svg\" >\n",
        "\n",
        "<a href=\"https://t.me/init_python\"><img src=\"https://dfedorov.spb.ru/pandas/logo-telegram.png\" width=\"35\" height=\"35\" alt=\"telegram\" align=\"left\"></a>"
      ]
    },
    {
      "cell_type": "markdown",
      "metadata": {
        "id": "jW7N_4ZfsGAR"
      },
      "source": [
        "<a href=\"https://colab.research.google.com/github/dm-fedorov/pandas_basic/blob/master/%D0%B1%D1%8B%D1%81%D1%82%D1%80%D0%BE%D0%B5%20%D0%B2%D0%B2%D0%B5%D0%B4%D0%B5%D0%BD%D0%B8%D0%B5%20%D0%B2%20pandas/02.%20%D0%9A%D0%B0%D0%BA%20%D0%BC%D0%BD%D0%B5%20%D1%87%D0%B8%D1%82%D0%B0%D1%82%D1%8C%20%D0%B8%20%D0%B7%D0%B0%D0%BF%D0%B8%D1%81%D1%8B%D0%B2%D0%B0%D1%82%D1%8C%20%D1%82%D0%B0%D0%B1%D0%BB%D0%B8%D1%87%D0%BD%D1%8B%D0%B5%20%D0%B4%D0%B0%D0%BD%D0%BD%D1%8B%D0%B5%3F.ipynb\"><img align=\"left\" src=\"https://colab.research.google.com/assets/colab-badge.svg\" alt=\"Open in Colab\" title=\"Open and Execute in Google Colaboratory\" target=\"_blank\"></a>"
      ]
    },
    {
      "cell_type": "markdown",
      "metadata": {
        "id": "FqGG5bKEsGAS"
      },
      "source": [
        "Проведом анализ данных о пассажирах. Данные доступны в виде файла в формате CSV."
      ]
    },
    {
      "cell_type": "code",
      "metadata": {
        "id": "e9mKtKZOsGAT"
      },
      "source": [
        "import pandas as pd"
      ],
      "execution_count": null,
      "outputs": []
    },
    {
      "cell_type": "code",
      "metadata": {
        "id": "n1_pczjbsGAV"
      },
      "source": [
        "url = \"https://raw.githubusercontent.com/dm-fedorov/pandas_basic/master/%D0%B1%D1%8B%D1%81%D1%82%D1%80%D0%BE%D0%B5%20%D0%B2%D0%B2%D0%B5%D0%B4%D0%B5%D0%BD%D0%B8%D0%B5%20%D0%B2%20pandas/data/titanic.csv\""
      ],
      "execution_count": null,
      "outputs": []
    },
    {
      "cell_type": "code",
      "metadata": {
        "id": "7__FUANrsGAV"
      },
      "source": [
        "titanic = pd.read_csv(url)"
      ],
      "execution_count": null,
      "outputs": []
    },
    {
      "cell_type": "markdown",
      "metadata": {
        "id": "ov5BhKlAsGAW"
      },
      "source": [
        "`Pandas` предоставляет функцию [`read_csv()`](https://pandas.pydata.org/pandas-docs/stable/reference/api/pandas.read_csv.html#pandas.read_csv) для чтения данных, хранящихся в виде CSV-файла, и преобразования их в `DataFrame`. \n",
        "\n",
        "`Pandas` поддерживает множество различных форматов файлов или источников данных (`csv`, `excel`, `sql`, `json`…), каждый из которых имеет префикс `read_*`."
      ]
    },
    {
      "cell_type": "markdown",
      "metadata": {
        "id": "g_A5-ZxksGAX"
      },
      "source": [
        "В первую очередь, проверяйте данные после прочтения! \n",
        "\n",
        "При отображении `DataFrame` по умолчанию отображаются первые и последней 5 строк:"
      ]
    },
    {
      "cell_type": "code",
      "metadata": {
        "id": "oGZWAa9ysGAY"
      },
      "source": [
        "titanic"
      ],
      "execution_count": null,
      "outputs": []
    },
    {
      "cell_type": "markdown",
      "metadata": {
        "id": "kEuRHVzCsGAZ"
      },
      "source": [
        "Первые 8 строк `DataFrame`:"
      ]
    },
    {
      "cell_type": "code",
      "metadata": {
        "id": "hK3gqxrTsGAa"
      },
      "source": [
        "titanic.head(8)"
      ],
      "execution_count": null,
      "outputs": []
    },
    {
      "cell_type": "markdown",
      "metadata": {
        "id": "q-ZarVe7sGAb"
      },
      "source": [
        "`pandas` содержит метод [`tail()`](https://pandas.pydata.org/pandas-docs/stable/reference/api/pandas.DataFrame.tail.html#pandas.DataFrame.tail) для отображения последних N строк. \n",
        "\n",
        "Например, `titanic.tail(10)` вернет последние 10 строк таблицы."
      ]
    },
    {
      "cell_type": "markdown",
      "metadata": {
        "id": "NsjUIuaIsGAe"
      },
      "source": [
        "С помощью обращения к атрибуту `dtypes` можно проверить, какие типы данных хранятся в столбцах таблицы:"
      ]
    },
    {
      "cell_type": "code",
      "metadata": {
        "id": "jn6MBncCsGAg"
      },
      "source": [
        "titanic.dtypes"
      ],
      "execution_count": null,
      "outputs": []
    },
    {
      "cell_type": "markdown",
      "metadata": {
        "id": "V659jEFjsGAg"
      },
      "source": [
        "Типы данных в этом `DataFrame` - целые числа (`int64`), числа с плавающей точкой (`float63`) и строки (`object`)."
      ]
    },
    {
      "cell_type": "markdown",
      "metadata": {
        "id": "8QK7cs-isGAh"
      },
      "source": [
        "При запросе `dtypes` скобки не используются! `dtypes` является атрибутом `DataFrame` и `Series`. Атрибуты представляют собой характеристику `DataFrame` / `Series`, тогда как метод (для которого требуются скобки) что-то делает с `DataFrame` / `Series`. "
      ]
    },
    {
      "cell_type": "markdown",
      "metadata": {
        "id": "fGF7DeAlsGAi"
      },
      "source": [
        "Сохраним данные в виде электронной таблицы:"
      ]
    },
    {
      "cell_type": "code",
      "metadata": {
        "id": "__x3EBIxsGAj"
      },
      "source": [
        "titanic.to_excel('titanic.xlsx', sheet_name='passengers', index=False)"
      ],
      "execution_count": null,
      "outputs": []
    },
    {
      "cell_type": "markdown",
      "metadata": {
        "id": "gx_qA9TrsGAj"
      },
      "source": [
        "В то время как `read_*` функции используются для чтения данных, `to_*` методы используются для сохранения данных. \n",
        "\n",
        "[`to_excel()`](https://pandas.pydata.org/pandas-docs/stable/reference/api/pandas.DataFrame.to_excel.html#pandas.DataFrame.to_excel) сохраняет данные в виде файла `Excel`. \n",
        "\n",
        "В приведенном примере `sheet_name` задает имя листа. При настройке `index=False` индексные метки не сохраняются в электронной таблице."
      ]
    },
    {
      "cell_type": "markdown",
      "metadata": {
        "id": "z9gXAiSZsGAk"
      },
      "source": [
        "Эквивалентная функция для чтения [`read_excel()`](https://pandas.pydata.org/pandas-docs/stable/reference/api/pandas.read_excel.html#pandas.read_excel) загрузит данные в `DataFrame`:"
      ]
    },
    {
      "cell_type": "code",
      "metadata": {
        "id": "Z4WKq5NbsGAk"
      },
      "source": [
        "titanic = pd.read_excel('titanic.xlsx', sheet_name='passengers')"
      ],
      "execution_count": null,
      "outputs": []
    },
    {
      "cell_type": "code",
      "metadata": {
        "id": "CR3eiZEqsGAl"
      },
      "source": [
        "titanic.head()"
      ],
      "execution_count": null,
      "outputs": []
    },
    {
      "cell_type": "markdown",
      "metadata": {
        "id": "BTapVHTFsGAl"
      },
      "source": [
        "Техническом детали `DataFrame`:"
      ]
    },
    {
      "cell_type": "code",
      "metadata": {
        "id": "IJ5f8whLsGAl"
      },
      "source": [
        "titanic.info()"
      ],
      "execution_count": null,
      "outputs": []
    },
    {
      "cell_type": "markdown",
      "metadata": {
        "id": "KggpgUSVsGAm"
      },
      "source": [
        "Метод [`info()`](https://pandas.pydata.org/pandas-docs/stable/reference/api/pandas.DataFrame.info.html#pandas.DataFrame.info) предоставляет техническую информацию о `DataFrame`, поэтому объясним вывод более подробно:\n",
        "\n",
        "- Это действительно `DataFrame`.\n",
        "- Всего 891 запись, т.е. 891 строка.\n",
        "- У каждой строки есть метка строки (она же `index``) со значениями от 0 до 890.\n",
        "- Таблица имеет 12 столбцов. Большинство столбцов имеют значение для каждой из строк (все 891 значения `non-null`). Некоторые столбцы имеют пропущенные значения и менее 891 `non-null` значений.\n",
        "- Столбцы `Name`, `Sex`, `Cabin` и `Embarked` состоят из текстовых данных (`object`). Другие столбцы представляют собой числовые данные, некоторые из которых являются целыми числами (`integer`), а другие - действительными числами (`float`).\n",
        "- Тип данных (символы, целые числа, ...) в разных столбцах суммируется путем перечисления `dtypes`.\n",
        "- Приводится приблизительный объем оперативной памяти, используемой для хранения `DataFrame`."
      ]
    },
    {
      "cell_type": "markdown",
      "metadata": {
        "id": "yB3E_CwYsGAm"
      },
      "source": [
        "<a href=\"https://t.me/init_python\"><img src=\"https://dfedorov.spb.ru/pandas/logo-telegram.png\" width=\"35\" height=\"35\" alt=\"telegram\" align=\"left\"></a>"
      ]
    },
    {
      "cell_type": "code",
      "metadata": {
        "id": "t5ECh0PjsGAm"
      },
      "source": [
        ""
      ],
      "execution_count": null,
      "outputs": []
    }
  ]
}